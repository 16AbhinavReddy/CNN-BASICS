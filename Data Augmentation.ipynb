{
 "cells": [
  {
   "cell_type": "code",
   "execution_count": 1,
   "id": "fa06efad",
   "metadata": {},
   "outputs": [
    {
     "name": "stdout",
     "output_type": "stream",
     "text": [
      "Defaulting to user installation because normal site-packages is not writeable\n",
      "Requirement already satisfied: keras in /Users/abhinavreddy/Library/Python/3.9/lib/python/site-packages (2.11.0)\n"
     ]
    }
   ],
   "source": [
    "!pip3 install keras"
   ]
  },
  {
   "cell_type": "code",
   "execution_count": 2,
   "id": "dffe653e",
   "metadata": {},
   "outputs": [
    {
     "name": "stdout",
     "output_type": "stream",
     "text": [
      "Defaulting to user installation because normal site-packages is not writeable\r\n",
      "Requirement already satisfied: keras_preprocessing in /Users/abhinavreddy/Library/Python/3.9/lib/python/site-packages (1.1.2)\r\n",
      "Requirement already satisfied: numpy>=1.9.1 in /Users/abhinavreddy/Library/Python/3.9/lib/python/site-packages (from keras_preprocessing) (1.24.2)\r\n",
      "Requirement already satisfied: six>=1.9.0 in /Library/Developer/CommandLineTools/Library/Frameworks/Python3.framework/Versions/3.9/lib/python3.9/site-packages (from keras_preprocessing) (1.15.0)\r\n"
     ]
    }
   ],
   "source": [
    "!pip3 install keras_preprocessing\n",
    "from keras_preprocessing.image import ImageDataGenerator, array_to_img, img_to_array, load_img"
   ]
  },
  {
   "cell_type": "code",
   "execution_count": 3,
   "id": "205af2df",
   "metadata": {},
   "outputs": [],
   "source": [
    "img_gen = ImageDataGenerator(\n",
    "    rotation_range= 40,\n",
    "    width_shift_range = 0.2,\n",
    "    height_shift_range = 0.2,\n",
    "    shear_range = 0.2,\n",
    "    zoom_range = 0.2,\n",
    "    horizontal_flip = True,\n",
    "    fill_mode = 'nearest'\n",
    ")"
   ]
  },
  {
   "cell_type": "code",
   "execution_count": 4,
   "id": "158adf01",
   "metadata": {},
   "outputs": [],
   "source": [
    "img = load_img(\"cat.jpeg\")"
   ]
  },
  {
   "cell_type": "code",
   "execution_count": 5,
   "id": "8862cb41",
   "metadata": {},
   "outputs": [],
   "source": [
    "pixels = img_to_array(img)"
   ]
  },
  {
   "cell_type": "code",
   "execution_count": 6,
   "id": "bc0b3c53",
   "metadata": {},
   "outputs": [],
   "source": [
    "pixels = pixels.reshape((1,) + pixels.shape)"
   ]
  },
  {
   "cell_type": "code",
   "execution_count": 7,
   "id": "d790fa4a",
   "metadata": {},
   "outputs": [
    {
     "name": "stdout",
     "output_type": "stream",
     "text": [
      "Defaulting to user installation because normal site-packages is not writeable\r\n",
      "Requirement already satisfied: SciPy in /Users/abhinavreddy/Library/Python/3.9/lib/python/site-packages (1.10.1)\r\n",
      "Requirement already satisfied: numpy<1.27.0,>=1.19.5 in /Users/abhinavreddy/Library/Python/3.9/lib/python/site-packages (from SciPy) (1.24.2)\r\n"
     ]
    }
   ],
   "source": [
    "!pip3 install SciPy"
   ]
  },
  {
   "cell_type": "code",
   "execution_count": 8,
   "id": "549a4f0a",
   "metadata": {},
   "outputs": [],
   "source": [
    "i = 0\n",
    "for batch in img_gen.flow(pixels, batch_size=1, save_to_dir= \"Cats\", save_prefix=\"cat\", save_format=\"jpeg\"):\n",
    "    i += 1\n",
    "    if i > 20:\n",
    "      break"
   ]
  },
  {
   "cell_type": "code",
   "execution_count": null,
   "id": "5062800a",
   "metadata": {},
   "outputs": [],
   "source": []
  }
 ],
 "metadata": {
  "kernelspec": {
   "display_name": "Python 3 (ipykernel)",
   "language": "python",
   "name": "python3"
  },
  "language_info": {
   "codemirror_mode": {
    "name": "ipython",
    "version": 3
   },
   "file_extension": ".py",
   "mimetype": "text/x-python",
   "name": "python",
   "nbconvert_exporter": "python",
   "pygments_lexer": "ipython3",
   "version": "3.9.6"
  }
 },
 "nbformat": 4,
 "nbformat_minor": 5
}
